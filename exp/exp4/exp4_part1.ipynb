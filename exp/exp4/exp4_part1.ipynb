{
 "cells": [
  {
   "cell_type": "code",
   "execution_count": 2,
   "id": "saved-dinner",
   "metadata": {},
   "outputs": [],
   "source": [
    "import numpy as np\n",
    "import matplotlib.pylab as plt\n",
    "import pandas as pd\n",
    "import math"
   ]
  },
  {
   "cell_type": "code",
   "execution_count": 3,
   "id": "finite-livestock",
   "metadata": {},
   "outputs": [],
   "source": [
    "# 读取数据\n",
    "all_data = pd.read_csv('exp3Data.csv')"
   ]
  },
  {
   "cell_type": "code",
   "execution_count": 4,
   "outputs": [
    {
     "name": "stdout",
     "output_type": "stream",
     "text": [
      "(80000, 3)\n"
     ]
    }
   ],
   "source": [
    "# all_data = all_data[['team1_firstBlood','team1_firstTower','team1_firstInhibitor'\n",
    "#     ,'team1_firstBaron','team1_firstDragon','team1_firstRiftHerald',\n",
    "#       'eco_gap','kills_gap','team1_win']].values\n",
    "all_data = all_data[['eco_gap','kills_gap','team1_win']].values\n",
    "# all_data = all_data[['team1_firstBlood','team1_firstTower','team1_firstInhibitor','team1_firstBaron','team1_firstDragon','team1_firstRiftHerald','team1_win']].values\n",
    "print(all_data.shape)"
   ],
   "metadata": {
    "collapsed": false,
    "pycharm": {
     "name": "#%%\n"
    }
   }
  },
  {
   "cell_type": "code",
   "execution_count": 5,
   "id": "equipped-bennett",
   "metadata": {},
   "outputs": [],
   "source": [
    "# 创建二叉树\n",
    "class binaryTreeNode():\n",
    "    def __init__(self,data=None,left=None,right=None,split=None):\n",
    "        self.data = data \n",
    "        self.left = left\n",
    "        self.right = right\n",
    "        self.split = split\n",
    "    def getdata(self):\n",
    "        return self.data\n",
    "    def getleft(self):\n",
    "        return self.left\n",
    "    def getright(self):\n",
    "        return self.right\n",
    "    def getsplit(self):\n",
    "        return self.split\n",
    "\n",
    "class KNNClassfier(object):\n",
    "\n",
    "    def __init__(self, k=1):\n",
    "        self.k = k\n",
    "        self.root = None\n",
    "        \n",
    "    def getroot(self):\n",
    "        return self.root\n",
    "\n",
    "    def kd_tree(self,train_X,train_Y):\n",
    "        # 构造kd树       \n",
    "        if len(train_X)==0:\n",
    "            return None\n",
    "        if len(train_X)==1:\n",
    "            return binaryTreeNode((train_X[0],train_Y[0]))\n",
    "        index = np.argmax(np.var(train_X,axis=0))\n",
    "        argsort = np.argsort(train_X[:,index])\n",
    "        left = self.kd_tree(train_X[argsort[0:len(argsort)//2],:],train_Y[argsort[0:len(argsort)//2]])\n",
    "        right = self.kd_tree(train_X[argsort[len(argsort)//2+1: ],:],train_Y[argsort[len(argsort)//2+1: ]])\n",
    "        root = binaryTreeNode((train_X[argsort[len(argsort)//2],:],train_Y[argsort[len(argsort)//2]]),left,right,index)\n",
    "        return root\n",
    "\n",
    "    def inOrder(self,root):\n",
    "        # 中序遍历kd树\n",
    "        if root == None:\n",
    "            return None\n",
    "        self.inOrder(root.getleft())\n",
    "        print(root.getdata())\n",
    "        self.inOrder(root.getright())\n",
    "\n",
    "    def search_kd_tree(self,x,knn,root,nodelist):\n",
    "\n",
    "        while len(knn)==0:\n",
    "            if root.getleft() == None and root.getright() == None:\n",
    "                return knn.append(root.getdata())\n",
    "\n",
    "            if x[root.getsplit()]<root.getdata()[0][root.getsplit()]:\n",
    "                if root.getleft()!=None:\n",
    "                    nodelist.append(root.getleft())\n",
    "                    self.search_kd_tree(x,knn,root.getleft(),nodelist)\n",
    "                else:\n",
    "                    nodelist.append(root.getright())\n",
    "                    self.search_kd_tree(x,knn,root.getright(),nodelist)\n",
    "            else:\n",
    "                if root.getright()!=None:\n",
    "                    nodelist.append(root.getright())\n",
    "                    self.search_kd_tree(x,knn,root.getright(),nodelist)\n",
    "                else:\n",
    "                    nodelist.append(root.getleft())\n",
    "                    self.search_kd_tree(x,knn,root.getleft(),nodelist)\n",
    "        \n",
    "        dis = np.linalg.norm(x-knn[0][0],ord=2)\n",
    "\n",
    "        while len(nodelist)!=0:\n",
    "            current = nodelist.pop()            \n",
    "            # currentdis = np.linalg.norm(x-current.getdata()[0],ord=2)\n",
    "            if np.linalg.norm(x-current.getdata()[0],ord=2)<dis:\n",
    "                knn[0] = current.getdata()\n",
    "            if current.getleft()!=None and np.linalg.norm(x-current.getleft().getdata()[0],ord=2)<dis:\n",
    "                knn[0] = current.getleft().getdata()\n",
    "            if current.getright()!=None and np.linalg.norm(x-current.getright().getdata()[0],ord=2)<dis:\n",
    "                knn[0] = current.getright().getdata()\n",
    "\n",
    "        return knn\n",
    "\n",
    "    def fit(self,X,Y):\n",
    "        '''\n",
    "        X :  [n_samples,shape]\n",
    "        Y :  [n_samples,1]\n",
    "        '''\n",
    "        self.root = self.kd_tree(X,Y)\n",
    "        \n",
    "    def predict(self,X):\n",
    "        print('   ')\n",
    "        output = np.zeros((X.shape[0],1))\n",
    "        for i in range(X.shape[0]):\n",
    "            knn = []\n",
    "            knn = self.search_kd_tree(X[i,:],knn,self.root,[self.root])\n",
    "            labels = []\n",
    "            for j in range(len(knn)):\n",
    "                labels.append(knn[j][1])\n",
    "            counts = []\n",
    "            # print('x:',X[i,:],'knn:',knn)\n",
    "            for label in labels:\n",
    "                counts.append(labels.count(label))\n",
    "            output[i] = labels[np.argmax(counts)]\n",
    "        return output\n",
    "    \n",
    "    def score(self,X,Y):\n",
    "        pred = self.predict(X)\n",
    "        err = 0.0\n",
    "        for i in range(X.shape[0]):\n",
    "            if pred[i]!=Y[i]:\n",
    "                err = err+1\n",
    "        return 1-float(err/X.shape[0])"
   ]
  },
  {
   "cell_type": "code",
   "execution_count": 6,
   "id": "loose-theme",
   "metadata": {},
   "outputs": [],
   "source": [
    "def norm(x,minval,maxval):\n",
    "    x = x.astype('float64')\n",
    "    for i in range(x.shape[1]):\n",
    "        x[:,i] = (x[:,i]-minval[i])/(maxval[i]-minval[i])\n",
    "    return x"
   ]
  },
  {
   "cell_type": "code",
   "execution_count": 7,
   "outputs": [],
   "source": [
    "def get_max_min(X):\n",
    "    maxval = []\n",
    "    minval = []\n",
    "    for i in range(X.shape[1]):\n",
    "        maxval.append(max(X[:,i]))\n",
    "        minval.append(min(X[:,i]))\n",
    "    return maxval,minval"
   ],
   "metadata": {
    "collapsed": false,
    "pycharm": {
     "name": "#%%\n"
    }
   }
  },
  {
   "cell_type": "code",
   "execution_count": 8,
   "id": "previous-failure",
   "metadata": {
    "pycharm": {
     "name": "#%%\n"
    }
   },
   "outputs": [
    {
     "name": "stdout",
     "output_type": "stream",
     "text": [
      "   \n",
      "0.9665625\n",
      "   \n",
      "0.964\n",
      "   \n",
      "0.9659375\n",
      "   \n",
      "0.9644375000000001\n",
      "   \n",
      "0.9655625\n"
     ]
    }
   ],
   "source": [
    "for i in range(5):\n",
    "    test_set = (all_data[(i * 16000):((i+1)*16000),:])\n",
    "    ra = [r for r in range((i * 16000),((i+1)*16000))]\n",
    "    train_set = (np.delete(all_data,ra,axis=0))\n",
    "    test_set_x = test_set[:,:-1]\n",
    "    test_set_y = test_set[:,-1]\n",
    "    train_set_x = train_set[:,:-1]\n",
    "    train_set_y = train_set[:,-1]\n",
    "    maxval,minval=get_max_min(train_set_x)\n",
    "    test_set_x=norm(test_set_x,maxval,minval)\n",
    "    train_set_x=norm(train_set_x,maxval,minval)\n",
    "    clf = KNNClassfier(k=5)\n",
    "    clf.fit(train_set_x,train_set_y)\n",
    "    print(clf.score(test_set_x,test_set_y))\n"
   ]
  }
 ],
 "metadata": {
  "kernelspec": {
   "display_name": "Python 3",
   "language": "python",
   "name": "python3"
  },
  "language_info": {
   "codemirror_mode": {
    "name": "ipython",
    "version": 3
   },
   "file_extension": ".py",
   "mimetype": "text/x-python",
   "name": "python",
   "nbconvert_exporter": "python",
   "pygments_lexer": "ipython3",
   "version": "3.8.5"
  }
 },
 "nbformat": 4,
 "nbformat_minor": 5
}