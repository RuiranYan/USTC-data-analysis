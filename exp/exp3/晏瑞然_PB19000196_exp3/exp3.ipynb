{
 "cells": [
  {
   "cell_type": "markdown",
   "id": "processed-philosophy",
   "metadata": {},
   "source": [
    "# 实验3\n",
    "\n",
    "实验要求：给定一个数据集和预测任务，需要分析数据以及抽取特征"
   ]
  },
  {
   "cell_type": "markdown",
   "id": "fleet-straight",
   "metadata": {
    "pycharm": {
     "name": "#%% md\n"
    }
   },
   "source": [
    "## 导入模块"
   ]
  },
  {
   "cell_type": "code",
   "execution_count": 1,
   "id": "damaged-crawford",
   "metadata": {
    "pycharm": {
     "name": "#%%\n"
    }
   },
   "outputs": [],
   "source": [
    "import pandas as pd\n",
    "import matplotlib.pylab as plt\n",
    "import numpy as np\n"
   ]
  },
  {
   "cell_type": "markdown",
   "id": "authorized-fisher",
   "metadata": {
    "pycharm": {
     "name": "#%% md\n"
    }
   },
   "source": [
    "## 数据读取"
   ]
  },
  {
   "cell_type": "code",
   "execution_count": 2,
   "id": "constitutional-juvenile",
   "metadata": {},
   "outputs": [
    {
     "name": "stdout",
     "output_type": "stream",
     "text": [
      "       queueId  mapId  seasonId  team1_win  team1_firstBlood  \\\n",
      "index                                                          \n",
      "0          420     11        13          0              True   \n",
      "1          420     11        13          1             False   \n",
      "2          420     11        13          0             False   \n",
      "3          420     11        13          0              True   \n",
      "4          420     11        13          1              True   \n",
      "\n",
      "       team1_firstTower  team1_firstInhibitor  team1_firstBaron  \\\n",
      "index                                                             \n",
      "0                 False                 False             False   \n",
      "1                  True                  True             False   \n",
      "2                  True                 False             False   \n",
      "3                 False                 False             False   \n",
      "4                  True                  True             False   \n",
      "\n",
      "       team1_firstDragon  team1_firstRiftHerald  ...  player9_goldEarned  \\\n",
      "index                                            ...                       \n",
      "0                  False                  False  ...                6967   \n",
      "1                   True                   True  ...                8133   \n",
      "2                   True                   True  ...               11868   \n",
      "3                   True                  False  ...                6703   \n",
      "4                  False                   True  ...                6823   \n",
      "\n",
      "       player9_role  player9_lane  player10_championId  player10_kills  \\\n",
      "index                                                                    \n",
      "0       DUO_SUPPORT          NONE                  157               3   \n",
      "1              SOLO        MIDDLE                  555               3   \n",
      "2         DUO_CARRY        BOTTOM                  122               2   \n",
      "3       DUO_SUPPORT        BOTTOM                   23               6   \n",
      "4               DUO        MIDDLE                   25               5   \n",
      "\n",
      "      player10_deaths player10_assists  player10_goldEarned  player10_role  \\\n",
      "index                                                                        \n",
      "0                   0                8                 8168            DUO   \n",
      "1                   7                4                 6943    DUO_SUPPORT   \n",
      "2                   2                1                 9685           SOLO   \n",
      "3                   2               10                13109           SOLO   \n",
      "4                   7                8                 6809    DUO_SUPPORT   \n",
      "\n",
      "       player10_lane  \n",
      "index                 \n",
      "0               NONE  \n",
      "1             BOTTOM  \n",
      "2                TOP  \n",
      "3                TOP  \n",
      "4             BOTTOM  \n",
      "\n",
      "[5 rows x 80 columns]\n",
      "(80000, 80)\n"
     ]
    }
   ],
   "source": [
    "\n",
    "data = pd.read_csv('exp3.csv',index_col=0)\n",
    "print(data.head())\n",
    "print(data.shape)"
   ]
  },
  {
   "cell_type": "markdown",
   "id": "continuing-douglas",
   "metadata": {
    "pycharm": {
     "name": "#%% md\n"
    }
   },
   "source": [
    "大致展示得到数据的结构："
   ]
  },
  {
   "cell_type": "code",
   "execution_count": 3,
   "id": "literary-trial",
   "metadata": {
    "pycharm": {
     "name": "#%%\n"
    }
   },
   "outputs": [],
   "source": [
    "# data.info()\n",
    "# data.describe()"
   ]
  },
  {
   "cell_type": "markdown",
   "id": "returning-music",
   "metadata": {
    "pycharm": {
     "name": "#%% md\n"
    }
   },
   "source": [
    "## 数据分析及特征抽取"
   ]
  },
  {
   "cell_type": "markdown",
   "id": "organic-ready",
   "metadata": {
    "pycharm": {
     "name": "#%% md\n"
    }
   },
   "source": [
    "### 1.比赛特征\n",
    "**主要工作：** 分析每次比赛的地图、队列、赛季特征。"
   ]
  },
  {
   "cell_type": "markdown",
   "id": "blind-assignment",
   "metadata": {
    "pycharm": {
     "name": "#%% md\n"
    }
   },
   "source": [
    "查看mapId,queueId,seasonId的数据分布，可以看出mapId有两种11和12，其中11个数有70001次，12有999次。\n",
    "queueId有7中，各自频率如下。\n",
    "seasonId只有一种取值13,故该特征可直接去除。\n"
   ]
  },
  {
   "cell_type": "code",
   "execution_count": 4,
   "id": "determined-connecticut",
   "metadata": {
    "pycharm": {
     "name": "#%%\n"
    }
   },
   "outputs": [
    {
     "name": "stdout",
     "output_type": "stream",
     "text": [
      "11    79001\n",
      "12      999\n",
      "Name: mapId, dtype: int64\n",
      "420     50146\n",
      "430     20966\n",
      "440      4016\n",
      "700      2594\n",
      "900      1023\n",
      "450       999\n",
      "1020      256\n",
      "Name: queueId, dtype: int64\n",
      "13    80000\n",
      "Name: seasonId, dtype: int64\n"
     ]
    }
   ],
   "source": [
    "print(data['mapId'].value_counts())\n",
    "print(data['queueId'].value_counts())\n",
    "print(data['seasonId'].value_counts())\n",
    "del data['seasonId']"
   ]
  },
  {
   "cell_type": "markdown",
   "id": "alike-armenia",
   "metadata": {
    "pycharm": {
     "name": "#%% md\n"
    }
   },
   "source": [
    "同时发现有map为12的个数与queue为450的数据个数相同，故猜测queue为450与map为12等价。\n",
    "下面进行验证。\n",
    "结果与我们的猜想相同，故mapId也没有意义，可以去掉。"
   ]
  },
  {
   "cell_type": "code",
   "execution_count": 5,
   "id": "smart-major",
   "metadata": {
    "pycharm": {
     "name": "#%%\n"
    }
   },
   "outputs": [
    {
     "name": "stdout",
     "output_type": "stream",
     "text": [
      "True\n"
     ]
    }
   ],
   "source": [
    "print(all(data[data['mapId']==12]['queueId']==450))\n",
    "del data['mapId']"
   ]
  },
  {
   "cell_type": "markdown",
   "id": "bibliographic-bleeding",
   "metadata": {
    "pycharm": {
     "name": "#%% md\n"
    }
   },
   "source": [
    "再来看看queueId与胜负的关系。\n",
    "可以看出大多数情况的queueId都在420,430之间且基本胜率接近50%，故也可以认为其与胜负关系无关，可以删除。"
   ]
  },
  {
   "cell_type": "code",
   "execution_count": 6,
   "id": "excited-discharge",
   "metadata": {
    "pycharm": {
     "name": "#%%\n"
    }
   },
   "outputs": [
    {
     "name": "stdout",
     "output_type": "stream",
     "text": [
      "team1_win      0      1\n",
      "queueId                \n",
      "420        25434  24712\n",
      "430        11211   9755\n",
      "440         2488   1528\n",
      "450          498    501\n",
      "700         1182   1412\n",
      "900          517    506\n",
      "1020         145    111\n"
     ]
    }
   ],
   "source": [
    "print(pd.crosstab(data['queueId'],data['team1_win']))\n",
    "del data['queueId']\n"
   ]
  },
  {
   "cell_type": "markdown",
   "id": "serious-manner",
   "metadata": {},
   "source": [
    "### 2.队伍特征\n",
    "**主要任务：** 通过每个队伍的每个选手的数据，组合成队伍的特征(整体经济、整体人头数)，如根据每个人的经济得到队伍经济。"
   ]
  },
  {
   "cell_type": "markdown",
   "id": "legendary-phrase",
   "metadata": {
    "pycharm": {
     "name": "#%% md\n"
    }
   },
   "source": [
    "#### 2.1队伍经济分析"
   ]
  },
  {
   "cell_type": "code",
   "execution_count": 7,
   "id": "trying-contemporary",
   "metadata": {},
   "outputs": [],
   "source": [
    "# 计算总经济与经济差\n",
    "data['team1_eco'] = data['player1_goldEarned']+data['player2_goldEarned']+data['player3_goldEarned']+data['player4_goldEarned']+data['player5_goldEarned']\n",
    "data['team2_eco'] = data['player6_goldEarned']+data['player7_goldEarned']+data['player8_goldEarned']+data['player9_goldEarned']+data['player10_goldEarned']\n",
    "data['eco_gap'] = data['team1_eco'] - data['team2_eco']"
   ]
  },
  {
   "cell_type": "code",
   "execution_count": 8,
   "id": "attempted-verse",
   "metadata": {
    "pycharm": {
     "name": "#%%\n"
    }
   },
   "outputs": [
    {
     "data": {
      "text/plain": "<Figure size 432x288 with 1 Axes>",
      "image/png": "[encoded data removed]"
     },
     "metadata": {
      "needs_background": "light"
     },
     "output_type": "display_data"
    }
   ],
   "source": [
    "# 画出散点图\n",
    "# data.plot.scatter(x='team1_eco', y='team2_eco', c='team1_win', colormap='rainbow',colorbar=False)\n",
    "\n",
    "fig = plt.figure()\n",
    "axes = fig.add_subplot(111)\n",
    "plt.scatter(data['team1_eco'], data['team2_eco'], c=data['team1_win'], cmap='RdYlGn', s=5)\n",
    "plt.xlabel('team1_eco')\n",
    "plt.ylabel('team2_eco')\n",
    "plt.show()\n"
   ]
  },
  {
   "cell_type": "markdown",
   "id": "elder-coaching",
   "metadata": {
    "pycharm": {
     "name": "#%% md\n"
    }
   },
   "source": [
    "获取每个队伍的经济及经济差,画出经济散点图，其中绿色代表team1赢，红色代表team2赢。\n"
   ]
  },
  {
   "cell_type": "code",
   "execution_count": 9,
   "id": "hydraulic-claim",
   "metadata": {
    "pycharm": {
     "name": "#%%\n"
    }
   },
   "outputs": [
    {
     "data": {
      "text/plain": "eco_gap    False  True \nteam1_win              \n0          40573    902\n1            981  37544",
      "text/html": "<div>\n<style scoped>\n    .dataframe tbody tr th:only-of-type {\n        vertical-align: middle;\n    }\n\n    .dataframe tbody tr th {\n        vertical-align: top;\n    }\n\n    .dataframe thead th {\n        text-align: right;\n    }\n</style>\n<table border=\"1\" class=\"dataframe\">\n  <thead>\n    <tr style=\"text-align: right;\">\n      <th>eco_gap</th>\n      <th>False</th>\n      <th>True</th>\n    </tr>\n    <tr>\n      <th>team1_win</th>\n      <th></th>\n      <th></th>\n    </tr>\n  </thead>\n  <tbody>\n    <tr>\n      <th>0</th>\n      <td>40573</td>\n      <td>902</td>\n    </tr>\n    <tr>\n      <th>1</th>\n      <td>981</td>\n      <td>37544</td>\n    </tr>\n  </tbody>\n</table>\n</div>"
     },
     "execution_count": 9,
     "metadata": {},
     "output_type": "execute_result"
    }
   ],
   "source": [
    "#经济是否领先与输赢的关系\n",
    "eco_gap_positive = data['eco_gap'] > 0\n",
    "pd.crosstab(data['team1_win'],eco_gap_positive)"
   ]
  },
  {
   "cell_type": "markdown",
   "id": "treated-waste",
   "metadata": {
    "pycharm": {
     "name": "#%% md\n"
    }
   },
   "source": [
    "画出经济差正负与胜负关系的列联表，其中eco_gap==True代表经济差(team1-team2)大于0,eco_gap==False反之。根据列联表检验，可以认为游戏胜负与经济是否领先相关。"
   ]
  },
  {
   "cell_type": "code",
   "execution_count": 10,
   "id": "basic-rapid",
   "metadata": {
    "pycharm": {
     "name": "#%%\n"
    }
   },
   "outputs": [
    {
     "data": {
      "text/plain": "array([[<AxesSubplot:title={'center':'winner_loser_eco_gap'}>]],\n      dtype=object)"
     },
     "execution_count": 10,
     "metadata": {},
     "output_type": "execute_result"
    },
    {
     "data": {
      "text/plain": "<Figure size 432x288 with 1 Axes>",
      "image/png": "[encoded data removed]"
     },
     "metadata": {
      "needs_background": "light"
     },
     "output_type": "display_data"
    }
   ],
   "source": [
    "# 所有比赛的胜方与负方经济差分布图，需要统计team1胜利和失败的所有比赛，失败的比赛经济差要取相反数\n",
    "winner_loser_eco_gap = list(data[data['team1_win']==1]['eco_gap'].values)+list(data[data['team1_win']==0]['eco_gap'].values*(-1))\n",
    "winner_loser_eco_gap = pd.DataFrame(winner_loser_eco_gap,columns=['winner_loser_eco_gap'])\n",
    "winner_loser_eco_gap.hist(bins=50)"
   ]
  },
  {
   "cell_type": "code",
   "execution_count": 11,
   "id": "african-wound",
   "metadata": {
    "pycharm": {
     "name": "#%%\n"
    }
   },
   "outputs": [
    {
     "data": {
      "text/plain": "       winner_loser_eco_gap\ncount          80000.000000\nmean            8763.360787\nstd             4207.051713\nmin           -22459.000000\n25%             6110.000000\n50%             8914.000000\n75%            11610.000000\nmax            34036.000000",
      "text/html": "<div>\n<style scoped>\n    .dataframe tbody tr th:only-of-type {\n        vertical-align: middle;\n    }\n\n    .dataframe tbody tr th {\n        vertical-align: top;\n    }\n\n    .dataframe thead th {\n        text-align: right;\n    }\n</style>\n<table border=\"1\" class=\"dataframe\">\n  <thead>\n    <tr style=\"text-align: right;\">\n      <th></th>\n      <th>winner_loser_eco_gap</th>\n    </tr>\n  </thead>\n  <tbody>\n    <tr>\n      <th>count</th>\n      <td>80000.000000</td>\n    </tr>\n    <tr>\n      <th>mean</th>\n      <td>8763.360787</td>\n    </tr>\n    <tr>\n      <th>std</th>\n      <td>4207.051713</td>\n    </tr>\n    <tr>\n      <th>min</th>\n      <td>-22459.000000</td>\n    </tr>\n    <tr>\n      <th>25%</th>\n      <td>6110.000000</td>\n    </tr>\n    <tr>\n      <th>50%</th>\n      <td>8914.000000</td>\n    </tr>\n    <tr>\n      <th>75%</th>\n      <td>11610.000000</td>\n    </tr>\n    <tr>\n      <th>max</th>\n      <td>34036.000000</td>\n    </tr>\n  </tbody>\n</table>\n</div>"
     },
     "execution_count": 11,
     "metadata": {},
     "output_type": "execute_result"
    }
   ],
   "source": [
    "# 胜方与负方经济差描述图\n",
    "winner_loser_eco_gap.describe()"
   ]
  },
  {
   "cell_type": "markdown",
   "id": "false-rotation",
   "metadata": {
    "pycharm": {
     "name": "#%% md\n"
    }
   },
   "source": [
    "得到胜方与负方经济差分布图及各个统计量，可以看出胜负方经济差大致符合一个正态分布，其均值在8763左右。\n"
   ]
  },
  {
   "cell_type": "markdown",
   "id": "olive-sailing",
   "metadata": {},
   "source": [
    "**结论：**\n",
    "* 经济是否领先与胜负相关，且经济高的一方更容易获胜，这也很符合常理。\n",
    "* 游戏结束时的胜负方经济差大概符合一个均值为8763的正态分布，其各统计量如上图所示。"
   ]
  },
  {
   "cell_type": "markdown",
   "id": "sapphire-story",
   "metadata": {
    "pycharm": {
     "name": "#%% md\n"
    }
   },
   "source": [
    "#### 2.2队伍杀敌数分析"
   ]
  },
  {
   "cell_type": "code",
   "execution_count": 12,
   "id": "another-sessions",
   "metadata": {
    "pycharm": {
     "name": "#%%\n"
    }
   },
   "outputs": [],
   "source": [
    "# 计算总人头与人头差\n",
    "data['team1_kills'] = data['player1_kills']+data['player2_kills']+data['player3_kills']+data['player4_kills']+data['player5_kills']\n",
    "data['team2_kills'] = data['player6_kills']+data['player7_kills']+data['player8_kills']+data['player9_kills']+data['player10_kills']\n",
    "data['kills_gap'] = data['team1_kills'] - data['team2_kills']"
   ]
  },
  {
   "cell_type": "markdown",
   "id": "parliamentary-hours",
   "metadata": {
    "pycharm": {
     "name": "#%% md\n"
    }
   },
   "source": [
    "得到每个队伍的杀敌数及杀敌数差，因杀敌数相对经济更加集中所以没必要画散点图。"
   ]
  },
  {
   "cell_type": "code",
   "execution_count": 13,
   "id": "dried-joining",
   "metadata": {
    "pycharm": {
     "name": "#%%\n"
    }
   },
   "outputs": [
    {
     "data": {
      "text/plain": "kills_gap  False  True \nteam1_win              \n0          39327   2148\n1           2626  35899",
      "text/html": "<div>\n<style scoped>\n    .dataframe tbody tr th:only-of-type {\n        vertical-align: middle;\n    }\n\n    .dataframe tbody tr th {\n        vertical-align: top;\n    }\n\n    .dataframe thead th {\n        text-align: right;\n    }\n</style>\n<table border=\"1\" class=\"dataframe\">\n  <thead>\n    <tr style=\"text-align: right;\">\n      <th>kills_gap</th>\n      <th>False</th>\n      <th>True</th>\n    </tr>\n    <tr>\n      <th>team1_win</th>\n      <th></th>\n      <th></th>\n    </tr>\n  </thead>\n  <tbody>\n    <tr>\n      <th>0</th>\n      <td>39327</td>\n      <td>2148</td>\n    </tr>\n    <tr>\n      <th>1</th>\n      <td>2626</td>\n      <td>35899</td>\n    </tr>\n  </tbody>\n</table>\n</div>"
     },
     "execution_count": 13,
     "metadata": {},
     "output_type": "execute_result"
    }
   ],
   "source": [
    "# 人头是否领先与输赢的关系\n",
    "kills_gap_positive = data['kills_gap'] > 0\n",
    "pd.crosstab(data['team1_win'],kills_gap_positive)"
   ]
  },
  {
   "cell_type": "markdown",
   "id": "adaptive-bhutan",
   "metadata": {},
   "source": [
    "画出人头差正负与胜负关系的列联表，其中kills_gap==True代表经济差(team1-team2)大于0,kills_gap==False反之。根据列联表检验，可以认为游戏胜负与经济是否领先相关。"
   ]
  },
  {
   "cell_type": "code",
   "execution_count": 14,
   "id": "nervous-mason",
   "metadata": {
    "pycharm": {
     "name": "#%%\n"
    }
   },
   "outputs": [
    {
     "data": {
      "text/plain": "array([[<AxesSubplot:title={'center':'winner_loser_kills_gap'}>]],\n      dtype=object)"
     },
     "execution_count": 14,
     "metadata": {},
     "output_type": "execute_result"
    },
    {
     "data": {
      "text/plain": "<Figure size 432x288 with 1 Axes>",
      "image/png": "[encoded data removed]"
     },
     "metadata": {
      "needs_background": "light"
     },
     "output_type": "display_data"
    }
   ],
   "source": [
    "# 所有比赛的胜方与负方人头差分布图，需要统计team1胜利和失败的所有比赛，失败的比赛人头差要取相反数\n",
    "winner_loser_kills_gap = list(data[data['team1_win']==1]['kills_gap'].values)+list(data[data['team1_win']==0]['kills_gap'].values*(-1))\n",
    "winner_loser_kills_gap = pd.DataFrame(winner_loser_kills_gap,columns=['winner_loser_kills_gap'])\n",
    "winner_loser_kills_gap.hist(bins=50)"
   ]
  },
  {
   "cell_type": "code",
   "execution_count": 15,
   "id": "waiting-probability",
   "metadata": {
    "pycharm": {
     "name": "#%%\n"
    }
   },
   "outputs": [
    {
     "data": {
      "text/plain": "       winner_loser_kills_gap\ncount            80000.000000\nmean                11.714688\nstd                  7.353117\nmin                -58.000000\n25%                  7.000000\n50%                 12.000000\n75%                 16.000000\nmax                 65.000000",
      "text/html": "<div>\n<style scoped>\n    .dataframe tbody tr th:only-of-type {\n        vertical-align: middle;\n    }\n\n    .dataframe tbody tr th {\n        vertical-align: top;\n    }\n\n    .dataframe thead th {\n        text-align: right;\n    }\n</style>\n<table border=\"1\" class=\"dataframe\">\n  <thead>\n    <tr style=\"text-align: right;\">\n      <th></th>\n      <th>winner_loser_kills_gap</th>\n    </tr>\n  </thead>\n  <tbody>\n    <tr>\n      <th>count</th>\n      <td>80000.000000</td>\n    </tr>\n    <tr>\n      <th>mean</th>\n      <td>11.714688</td>\n    </tr>\n    <tr>\n      <th>std</th>\n      <td>7.353117</td>\n    </tr>\n    <tr>\n      <th>min</th>\n      <td>-58.000000</td>\n    </tr>\n    <tr>\n      <th>25%</th>\n      <td>7.000000</td>\n    </tr>\n    <tr>\n      <th>50%</th>\n      <td>12.000000</td>\n    </tr>\n    <tr>\n      <th>75%</th>\n      <td>16.000000</td>\n    </tr>\n    <tr>\n      <th>max</th>\n      <td>65.000000</td>\n    </tr>\n  </tbody>\n</table>\n</div>"
     },
     "execution_count": 15,
     "metadata": {},
     "output_type": "execute_result"
    }
   ],
   "source": [
    "# 胜方与负方人头差描述图\n",
    "winner_loser_kills_gap.describe()"
   ]
  },
  {
   "cell_type": "markdown",
   "id": "square-preparation",
   "metadata": {},
   "source": [
    "得到胜负各方的杀敌数分布图及各个统计量，可以看出胜负方人头差大致符合一个正态分布，其均值在12左右。"
   ]
  },
  {
   "cell_type": "markdown",
   "id": "dated-poker",
   "metadata": {
    "pycharm": {
     "name": "#%% md\n"
    }
   },
   "source": [
    "**结论：**\n",
    "* 人头数是否领先与胜负相关，且经济高的一方更容易获胜，这也很符合常理。\n",
    "* 游戏结束时的胜负方人头差大概符合一个均值为12的正态分布，其各统计量如上图所示。"
   ]
  },
  {
   "cell_type": "code",
   "execution_count": 16,
   "id": "novel-exhibit",
   "metadata": {
    "pycharm": {
     "name": "#%%\n"
    }
   },
   "outputs": [],
   "source": [
    "# all(data[data['player1_lane']=='JUNGLE']['player1_role']=='NONE')\n",
    "# pd.crosstab(data['player1_lane'],data['player1_role'])"
   ]
  },
  {
   "cell_type": "markdown",
   "id": "antique-inspector",
   "metadata": {},
   "source": [
    "### 3.地图资源特征\n",
    "**主要任务：** 分析各个地图资源(如1塔，1龙等)特征对胜负的影响，用曼哈顿距离度量两者距离(相关度)，曼哈顿距离即为team1拿了该资源却输了和未拿该资源却赢了的比赛总和。"
   ]
  },
  {
   "cell_type": "markdown",
   "id": "portable-reference",
   "metadata": {},
   "source": [
    "进行分析前首先进行数据类型转换，将TRUE，FALSE字符类型转换成0，1的int型。"
   ]
  },
  {
   "cell_type": "code",
   "execution_count": 17,
   "id": "settled-grace",
   "metadata": {
    "pycharm": {
     "name": "#%%\n"
    }
   },
   "outputs": [
    {
     "data": {
      "text/plain": "       team1_win  team1_firstBlood  team1_firstTower  team1_firstInhibitor  \\\nindex                                                                        \n0              0                 1                 0                     0   \n1              1                 0                 1                     1   \n2              0                 0                 1                     0   \n3              0                 1                 0                     0   \n4              1                 1                 1                     1   \n\n       team1_firstBaron  team1_firstDragon  team1_firstRiftHerald  \\\nindex                                                               \n0                     0                  0                      0   \n1                     0                  1                      1   \n2                     0                  1                      1   \n3                     0                  1                      0   \n4                     0                  0                      1   \n\n       player1_championId  player1_kills  player1_deaths  ...  \\\nindex                                                     ...   \n0                     107              2               4  ...   \n1                      76             10               5  ...   \n2                      51              7               6  ...   \n3                      28              5               3  ...   \n4                      79              4               2  ...   \n\n       player10_assists  player10_goldEarned player10_role player10_lane  \\\nindex                                                                      \n0                     8                 8168           DUO          NONE   \n1                     4                 6943   DUO_SUPPORT        BOTTOM   \n2                     1                 9685          SOLO           TOP   \n3                    10                13109          SOLO           TOP   \n4                     8                 6809   DUO_SUPPORT        BOTTOM   \n\n       team1_eco  team2_eco  eco_gap  team1_kills  team2_kills kills_gap  \nindex                                                                     \n0          26720      36199    -9479            9           21       -12  \n1          52413      41541    10872           32           18        14  \n2          51296      55630    -4334           14           22        -8  \n3          47192      51874    -4682           18           23        -5  \n4          48454      39192     9262           32           19        13  \n\n[5 rows x 83 columns]",
      "text/html": "<div>\n<style scoped>\n    .dataframe tbody tr th:only-of-type {\n        vertical-align: middle;\n    }\n\n    .dataframe tbody tr th {\n        vertical-align: top;\n    }\n\n    .dataframe thead th {\n        text-align: right;\n    }\n</style>\n<table border=\"1\" class=\"dataframe\">\n  <thead>\n    <tr style=\"text-align: right;\">\n      <th></th>\n      <th>team1_win</th>\n      <th>team1_firstBlood</th>\n      <th>team1_firstTower</th>\n      <th>team1_firstInhibitor</th>\n      <th>team1_firstBaron</th>\n      <th>team1_firstDragon</th>\n      <th>team1_firstRiftHerald</th>\n      <th>player1_championId</th>\n      <th>player1_kills</th>\n      <th>player1_deaths</th>\n      <th>...</th>\n      <th>player10_assists</th>\n      <th>player10_goldEarned</th>\n      <th>player10_role</th>\n      <th>player10_lane</th>\n      <th>team1_eco</th>\n      <th>team2_eco</th>\n      <th>eco_gap</th>\n      <th>team1_kills</th>\n      <th>team2_kills</th>\n      <th>kills_gap</th>\n    </tr>\n    <tr>\n      <th>index</th>\n      <th></th>\n      <th></th>\n      <th></th>\n      <th></th>\n      <th></th>\n      <th></th>\n      <th></th>\n      <th></th>\n      <th></th>\n      <th></th>\n      <th></th>\n      <th></th>\n      <th></th>\n      <th></th>\n      <th></th>\n      <th></th>\n      <th></th>\n      <th></th>\n      <th></th>\n      <th></th>\n      <th></th>\n    </tr>\n  </thead>\n  <tbody>\n    <tr>\n      <th>0</th>\n      <td>0</td>\n      <td>1</td>\n      <td>0</td>\n      <td>0</td>\n      <td>0</td>\n      <td>0</td>\n      <td>0</td>\n      <td>107</td>\n      <td>2</td>\n      <td>4</td>\n      <td>...</td>\n      <td>8</td>\n      <td>8168</td>\n      <td>DUO</td>\n      <td>NONE</td>\n      <td>26720</td>\n      <td>36199</td>\n      <td>-9479</td>\n      <td>9</td>\n      <td>21</td>\n      <td>-12</td>\n    </tr>\n    <tr>\n      <th>1</th>\n      <td>1</td>\n      <td>0</td>\n      <td>1</td>\n      <td>1</td>\n      <td>0</td>\n      <td>1</td>\n      <td>1</td>\n      <td>76</td>\n      <td>10</td>\n      <td>5</td>\n      <td>...</td>\n      <td>4</td>\n      <td>6943</td>\n      <td>DUO_SUPPORT</td>\n      <td>BOTTOM</td>\n      <td>52413</td>\n      <td>41541</td>\n      <td>10872</td>\n      <td>32</td>\n      <td>18</td>\n      <td>14</td>\n    </tr>\n    <tr>\n      <th>2</th>\n      <td>0</td>\n      <td>0</td>\n      <td>1</td>\n      <td>0</td>\n      <td>0</td>\n      <td>1</td>\n      <td>1</td>\n      <td>51</td>\n      <td>7</td>\n      <td>6</td>\n      <td>...</td>\n      <td>1</td>\n      <td>9685</td>\n      <td>SOLO</td>\n      <td>TOP</td>\n      <td>51296</td>\n      <td>55630</td>\n      <td>-4334</td>\n      <td>14</td>\n      <td>22</td>\n      <td>-8</td>\n    </tr>\n    <tr>\n      <th>3</th>\n      <td>0</td>\n      <td>1</td>\n      <td>0</td>\n      <td>0</td>\n      <td>0</td>\n      <td>1</td>\n      <td>0</td>\n      <td>28</td>\n      <td>5</td>\n      <td>3</td>\n      <td>...</td>\n      <td>10</td>\n      <td>13109</td>\n      <td>SOLO</td>\n      <td>TOP</td>\n      <td>47192</td>\n      <td>51874</td>\n      <td>-4682</td>\n      <td>18</td>\n      <td>23</td>\n      <td>-5</td>\n    </tr>\n    <tr>\n      <th>4</th>\n      <td>1</td>\n      <td>1</td>\n      <td>1</td>\n      <td>1</td>\n      <td>0</td>\n      <td>0</td>\n      <td>1</td>\n      <td>79</td>\n      <td>4</td>\n      <td>2</td>\n      <td>...</td>\n      <td>8</td>\n      <td>6809</td>\n      <td>DUO_SUPPORT</td>\n      <td>BOTTOM</td>\n      <td>48454</td>\n      <td>39192</td>\n      <td>9262</td>\n      <td>32</td>\n      <td>19</td>\n      <td>13</td>\n    </tr>\n  </tbody>\n</table>\n<p>5 rows × 83 columns</p>\n</div>"
     },
     "execution_count": 17,
     "metadata": {},
     "output_type": "execute_result"
    }
   ],
   "source": [
    "# 类型转换\n",
    "data.replace(True,1,inplace=True)\n",
    "data.replace(False,0,inplace=True)\n",
    "data.head()"
   ]
  },
  {
   "cell_type": "markdown",
   "id": "revolutionary-gauge",
   "metadata": {},
   "source": [
    "#### 3.1 一血"
   ]
  },
  {
   "cell_type": "code",
   "execution_count": 18,
   "id": "above-illinois",
   "metadata": {
    "pycharm": {
     "name": "#%%\n"
    }
   },
   "outputs": [
    {
     "data": {
      "text/plain": "team1_firstBlood      0      1\nteam1_win                     \n0                 24265  17210\n1                 15162  23363",
      "text/html": "<div>\n<style scoped>\n    .dataframe tbody tr th:only-of-type {\n        vertical-align: middle;\n    }\n\n    .dataframe tbody tr th {\n        vertical-align: top;\n    }\n\n    .dataframe thead th {\n        text-align: right;\n    }\n</style>\n<table border=\"1\" class=\"dataframe\">\n  <thead>\n    <tr style=\"text-align: right;\">\n      <th>team1_firstBlood</th>\n      <th>0</th>\n      <th>1</th>\n    </tr>\n    <tr>\n      <th>team1_win</th>\n      <th></th>\n      <th></th>\n    </tr>\n  </thead>\n  <tbody>\n    <tr>\n      <th>0</th>\n      <td>24265</td>\n      <td>17210</td>\n    </tr>\n    <tr>\n      <th>1</th>\n      <td>15162</td>\n      <td>23363</td>\n    </tr>\n  </tbody>\n</table>\n</div>"
     },
     "execution_count": 18,
     "metadata": {},
     "output_type": "execute_result"
    }
   ],
   "source": [
    "# 是否拿一血与胜负的关系\n",
    "pd.crosstab(data['team1_win'],data['team1_firstBlood'])"
   ]
  },
  {
   "cell_type": "code",
   "execution_count": 19,
   "id": "serious-comparative",
   "metadata": {
    "pycharm": {
     "name": "#%%\n"
    }
   },
   "outputs": [
    {
     "name": "stdout",
     "output_type": "stream",
     "text": [
      "Manhattan distance is 32372\n",
      "win rate is 0.5758262884184063\n"
     ]
    }
   ],
   "source": [
    "#计算曼哈顿距离及拿了该资源后的胜率\n",
    "firstBlood = pd.crosstab(data['team1_win'],data['team1_firstBlood']).values\n",
    "print(f'Manhattan distance is {firstBlood[0,1]+firstBlood[1,0]}')\n",
    "print(f'win rate is {firstBlood[1,1]/(firstBlood[0,1]+firstBlood[1,1])}')"
   ]
  },
  {
   "cell_type": "markdown",
   "id": "human-control",
   "metadata": {},
   "source": [
    "#### 3.2 一塔"
   ]
  },
  {
   "cell_type": "code",
   "execution_count": 20,
   "id": "floating-legend",
   "metadata": {
    "pycharm": {
     "name": "#%%\n"
    }
   },
   "outputs": [
    {
     "data": {
      "text/plain": "team1_firstTower      0      1\nteam1_win                     \n0                 29646  11829\n1                 10864  27661",
      "text/html": "<div>\n<style scoped>\n    .dataframe tbody tr th:only-of-type {\n        vertical-align: middle;\n    }\n\n    .dataframe tbody tr th {\n        vertical-align: top;\n    }\n\n    .dataframe thead th {\n        text-align: right;\n    }\n</style>\n<table border=\"1\" class=\"dataframe\">\n  <thead>\n    <tr style=\"text-align: right;\">\n      <th>team1_firstTower</th>\n      <th>0</th>\n      <th>1</th>\n    </tr>\n    <tr>\n      <th>team1_win</th>\n      <th></th>\n      <th></th>\n    </tr>\n  </thead>\n  <tbody>\n    <tr>\n      <th>0</th>\n      <td>29646</td>\n      <td>11829</td>\n    </tr>\n    <tr>\n      <th>1</th>\n      <td>10864</td>\n      <td>27661</td>\n    </tr>\n  </tbody>\n</table>\n</div>"
     },
     "execution_count": 20,
     "metadata": {},
     "output_type": "execute_result"
    }
   ],
   "source": [
    "# 是否拿一塔与胜负的关系\n",
    "pd.crosstab(data['team1_win'],data['team1_firstTower'])"
   ]
  },
  {
   "cell_type": "code",
   "execution_count": 21,
   "id": "original-wagon",
   "metadata": {
    "pycharm": {
     "name": "#%%\n"
    }
   },
   "outputs": [
    {
     "name": "stdout",
     "output_type": "stream",
     "text": [
      "Manhattan distance is 22693\n",
      "win rate is 0.7004558115978728\n"
     ]
    }
   ],
   "source": [
    "# 计算曼哈顿距离及拿了该资源后的胜率\n",
    "firstTower = pd.crosstab(data['team1_win'],data['team1_firstTower']).values\n",
    "print(f'Manhattan distance is {firstTower[0,1]+firstTower[1,0]}')\n",
    "print(f'win rate is {firstTower[1,1]/(firstTower[0,1]+firstTower[1,1])}')"
   ]
  },
  {
   "cell_type": "markdown",
   "id": "chief-desert",
   "metadata": {},
   "source": [
    "#### 3.3 一先锋"
   ]
  },
  {
   "cell_type": "code",
   "execution_count": 22,
   "id": "included-literacy",
   "metadata": {
    "pycharm": {
     "name": "#%%\n"
    }
   },
   "outputs": [
    {
     "data": {
      "text/plain": "team1_firstInhibitor      0      1\nteam1_win                         \n0                     38626   2849\n1                     11189  27336",
      "text/html": "<div>\n<style scoped>\n    .dataframe tbody tr th:only-of-type {\n        vertical-align: middle;\n    }\n\n    .dataframe tbody tr th {\n        vertical-align: top;\n    }\n\n    .dataframe thead th {\n        text-align: right;\n    }\n</style>\n<table border=\"1\" class=\"dataframe\">\n  <thead>\n    <tr style=\"text-align: right;\">\n      <th>team1_firstInhibitor</th>\n      <th>0</th>\n      <th>1</th>\n    </tr>\n    <tr>\n      <th>team1_win</th>\n      <th></th>\n      <th></th>\n    </tr>\n  </thead>\n  <tbody>\n    <tr>\n      <th>0</th>\n      <td>38626</td>\n      <td>2849</td>\n    </tr>\n    <tr>\n      <th>1</th>\n      <td>11189</td>\n      <td>27336</td>\n    </tr>\n  </tbody>\n</table>\n</div>"
     },
     "execution_count": 22,
     "metadata": {},
     "output_type": "execute_result"
    }
   ],
   "source": [
    "# 是否拿一先锋与胜负的关系\n",
    "pd.crosstab(data['team1_win'],data['team1_firstInhibitor'])"
   ]
  },
  {
   "cell_type": "code",
   "execution_count": 23,
   "id": "another-farming",
   "metadata": {
    "pycharm": {
     "name": "#%%\n"
    }
   },
   "outputs": [
    {
     "name": "stdout",
     "output_type": "stream",
     "text": [
      "Manhattan distance is 14038\n",
      "win rate is 0.9056153718734471\n"
     ]
    }
   ],
   "source": [
    "# 计算曼哈顿距离及拿了该资源后的胜率\n",
    "firstInhibitor = pd.crosstab(data['team1_win'],data['team1_firstInhibitor']).values\n",
    "print(f'Manhattan distance is {firstInhibitor[0,1]+firstInhibitor[1,0]}')\n",
    "print(f'win rate is {firstInhibitor[1,1]/(firstInhibitor[0,1]+firstInhibitor[1,1])}')"
   ]
  },
  {
   "cell_type": "markdown",
   "id": "plain-alloy",
   "metadata": {},
   "source": [
    "#### 3.4 一男爵"
   ]
  },
  {
   "cell_type": "code",
   "execution_count": 24,
   "id": "natural-thumb",
   "metadata": {
    "pycharm": {
     "name": "#%%\n"
    }
   },
   "outputs": [
    {
     "data": {
      "text/plain": "team1_firstBaron      0      1\nteam1_win                     \n0                 37497   3978\n1                 20144  18381",
      "text/html": "<div>\n<style scoped>\n    .dataframe tbody tr th:only-of-type {\n        vertical-align: middle;\n    }\n\n    .dataframe tbody tr th {\n        vertical-align: top;\n    }\n\n    .dataframe thead th {\n        text-align: right;\n    }\n</style>\n<table border=\"1\" class=\"dataframe\">\n  <thead>\n    <tr style=\"text-align: right;\">\n      <th>team1_firstBaron</th>\n      <th>0</th>\n      <th>1</th>\n    </tr>\n    <tr>\n      <th>team1_win</th>\n      <th></th>\n      <th></th>\n    </tr>\n  </thead>\n  <tbody>\n    <tr>\n      <th>0</th>\n      <td>37497</td>\n      <td>3978</td>\n    </tr>\n    <tr>\n      <th>1</th>\n      <td>20144</td>\n      <td>18381</td>\n    </tr>\n  </tbody>\n</table>\n</div>"
     },
     "execution_count": 24,
     "metadata": {},
     "output_type": "execute_result"
    }
   ],
   "source": [
    "# 是否拿一男爵与胜负的关系\n",
    "pd.crosstab(data['team1_win'],data['team1_firstBaron'])"
   ]
  },
  {
   "cell_type": "code",
   "execution_count": 25,
   "id": "sharp-franklin",
   "metadata": {
    "pycharm": {
     "name": "#%%\n"
    }
   },
   "outputs": [
    {
     "name": "stdout",
     "output_type": "stream",
     "text": [
      "Manhattan distance is 24122\n",
      "win rate is 0.8220850664162083\n"
     ]
    }
   ],
   "source": [
    "# 计算曼哈顿距离及拿了该资源后的胜率\n",
    "firstBaron = pd.crosstab(data['team1_win'],data['team1_firstBaron']).values\n",
    "print(f'Manhattan distance is {firstBaron[0,1]+firstBaron[1,0]}')\n",
    "print(f'win rate is {firstBaron[1,1]/(firstBaron[0,1]+firstBaron[1,1])}')"
   ]
  },
  {
   "cell_type": "markdown",
   "id": "nasty-caribbean",
   "metadata": {},
   "source": [
    "#### 3.5 一龙"
   ]
  },
  {
   "cell_type": "code",
   "execution_count": 26,
   "id": "funky-stick",
   "metadata": {
    "pycharm": {
     "name": "#%%\n"
    }
   },
   "outputs": [
    {
     "data": {
      "text/plain": "team1_firstDragon      0      1\nteam1_win                      \n0                  27024  14451\n1                  15266  23259",
      "text/html": "<div>\n<style scoped>\n    .dataframe tbody tr th:only-of-type {\n        vertical-align: middle;\n    }\n\n    .dataframe tbody tr th {\n        vertical-align: top;\n    }\n\n    .dataframe thead th {\n        text-align: right;\n    }\n</style>\n<table border=\"1\" class=\"dataframe\">\n  <thead>\n    <tr style=\"text-align: right;\">\n      <th>team1_firstDragon</th>\n      <th>0</th>\n      <th>1</th>\n    </tr>\n    <tr>\n      <th>team1_win</th>\n      <th></th>\n      <th></th>\n    </tr>\n  </thead>\n  <tbody>\n    <tr>\n      <th>0</th>\n      <td>27024</td>\n      <td>14451</td>\n    </tr>\n    <tr>\n      <th>1</th>\n      <td>15266</td>\n      <td>23259</td>\n    </tr>\n  </tbody>\n</table>\n</div>"
     },
     "execution_count": 26,
     "metadata": {},
     "output_type": "execute_result"
    }
   ],
   "source": [
    "# 是否拿一龙与胜负的关系\n",
    "pd.crosstab(data['team1_win'],data['team1_firstDragon'])"
   ]
  },
  {
   "cell_type": "code",
   "execution_count": 27,
   "id": "stunning-minnesota",
   "metadata": {
    "pycharm": {
     "name": "#%%\n"
    }
   },
   "outputs": [
    {
     "name": "stdout",
     "output_type": "stream",
     "text": [
      "Manhattan distance is 29717\n",
      "win rate is 0.6167859984089101\n"
     ]
    }
   ],
   "source": [
    "# 计算曼哈顿距离及拿了该资源后的胜率\n",
    "firstDragon = pd.crosstab(data['team1_win'],data['team1_firstDragon']).values\n",
    "print(f'Manhattan distance is {firstDragon[0,1]+firstDragon[1,0]}')\n",
    "print(f'win rate is {firstDragon[1,1]/(firstDragon[0,1]+firstDragon[1,1])}')"
   ]
  },
  {
   "cell_type": "markdown",
   "id": "consistent-membership",
   "metadata": {},
   "source": [
    "#### 3.6 一水晶"
   ]
  },
  {
   "cell_type": "code",
   "execution_count": 28,
   "id": "focused-picking",
   "metadata": {
    "pycharm": {
     "name": "#%%\n"
    }
   },
   "outputs": [
    {
     "data": {
      "text/plain": "team1_firstRiftHerald      0      1\nteam1_win                          \n0                      26728  14747\n1                      16460  22065",
      "text/html": "<div>\n<style scoped>\n    .dataframe tbody tr th:only-of-type {\n        vertical-align: middle;\n    }\n\n    .dataframe tbody tr th {\n        vertical-align: top;\n    }\n\n    .dataframe thead th {\n        text-align: right;\n    }\n</style>\n<table border=\"1\" class=\"dataframe\">\n  <thead>\n    <tr style=\"text-align: right;\">\n      <th>team1_firstRiftHerald</th>\n      <th>0</th>\n      <th>1</th>\n    </tr>\n    <tr>\n      <th>team1_win</th>\n      <th></th>\n      <th></th>\n    </tr>\n  </thead>\n  <tbody>\n    <tr>\n      <th>0</th>\n      <td>26728</td>\n      <td>14747</td>\n    </tr>\n    <tr>\n      <th>1</th>\n      <td>16460</td>\n      <td>22065</td>\n    </tr>\n  </tbody>\n</table>\n</div>"
     },
     "execution_count": 28,
     "metadata": {},
     "output_type": "execute_result"
    }
   ],
   "source": [
    "# 是否拿一水晶与胜负的关系\n",
    "pd.crosstab(data['team1_win'],data['team1_firstRiftHerald'])"
   ]
  },
  {
   "cell_type": "code",
   "execution_count": 29,
   "id": "biological-sister",
   "metadata": {
    "pycharm": {
     "name": "#%%\n"
    }
   },
   "outputs": [
    {
     "name": "stdout",
     "output_type": "stream",
     "text": [
      "Manhattan distance is 31207\n",
      "win rate is 0.5993969357818103\n"
     ]
    }
   ],
   "source": [
    "# 计算曼哈顿距离及拿了该资源后的胜率\n",
    "firstRiftHerald = pd.crosstab(data['team1_win'],data['team1_firstRiftHerald']).values\n",
    "print(f'Manhattan distance is {firstRiftHerald[0,1]+firstRiftHerald[1,0]}')\n",
    "print(f'win rate is {firstRiftHerald[1,1]/(firstRiftHerald[0,1]+firstRiftHerald[1,1])}')"
   ]
  },
  {
   "cell_type": "markdown",
   "id": "banned-oracle",
   "metadata": {},
   "source": [
    "#### 分析：\n",
    "可以看出拿了地图资源胜率会提高，这在实际中也是显然的。同时也可以发现这些数据中一些有趣的性质。\n",
    "首先一血、一塔的矩阵正反对角线上的数基本相同，但其他资源的对应矩阵明显有左上大于右下，左下大于右上的性质。\n",
    "难道team1和team2拿这些资源的胜率有偏差？显然不是，经分析，出现该种状态的原因是**有很多比赛两边都没拿该资源就结束了！！！**\n",
    "所以左侧数据大于右侧。这时计算拿了该资源后的胜率就比较有意义，现实中lol比赛分析也都如此，会分析拿了某项资源后的胜率。\n",
    "数据中也有一些反直觉的地方，比如拿了一先锋后的胜率比一大龙的胜率还高，理论上越偏向后期的资源应该对胜率影响越大，**推测比赛数据可能有一定偏差，取的是结束时间较早的数据**，\n",
    "所以先锋作为前期的重要资源对胜负影响就很大，而两边可能都没打大龙游戏就结束了，所以大龙的影响较小。\n",
    "\n",
    "最后，根据曼哈顿距离分析，资源与胜负相关度从高到底排序为(距离近的相关度高)：一先锋 > 一塔 > 一男爵 > 一龙 > 一水晶 > 一血。"
   ]
  },
  {
   "cell_type": "markdown",
   "id": "minor-grass",
   "metadata": {},
   "source": [
    "### 4.英雄及阵容特征\n",
    "**主要任务：** 分析各英雄与阵容数据，如英雄胜率、英雄常见位置、阵容胜率等。"
   ]
  },
  {
   "cell_type": "markdown",
   "id": "prepared-combat",
   "metadata": {},
   "source": [
    "#### 4.0数据预处理\n",
    "由于只分析英雄相关数据，故把所有玩家有关英雄的数据合在一张表中，得到championData。"
   ]
  },
  {
   "cell_type": "code",
   "execution_count": 30,
   "id": "continental-pollution",
   "metadata": {
    "pycharm": {
     "name": "#%%\n"
    }
   },
   "outputs": [
    {
     "name": "stdout",
     "output_type": "stream",
     "text": [
      "       win/lose championId kills deaths assists goldEarned         role  \\\n",
      "0             0        107     2      4       0       5385  DUO_SUPPORT   \n",
      "1             1         76    10      5       6      11865         NONE   \n",
      "2             0         51     7      6       2      12985    DUO_CARRY   \n",
      "3             0         28     5      3       5       8953         NONE   \n",
      "4             1         79     4      2      10       8347         NONE   \n",
      "...         ...        ...   ...    ...     ...        ...          ...   \n",
      "799995        1        235     3      5      13       8540  DUO_SUPPORT   \n",
      "799996        0        157     0      7       4       8248         SOLO   \n",
      "799997        1          7    10      2      13      11401          DUO   \n",
      "799998        1        412     1      3       6       5607  DUO_SUPPORT   \n",
      "799999        1        133     8      5      17      15290         NONE   \n",
      "\n",
      "          lane  \n",
      "0         NONE  \n",
      "1       JUNGLE  \n",
      "2       BOTTOM  \n",
      "3       JUNGLE  \n",
      "4       JUNGLE  \n",
      "...        ...  \n",
      "799995  BOTTOM  \n",
      "799996  MIDDLE  \n",
      "799997  MIDDLE  \n",
      "799998  BOTTOM  \n",
      "799999  JUNGLE  \n",
      "\n",
      "[800000 rows x 8 columns]\n"
     ]
    }
   ],
   "source": [
    "player = 'player' + str(1)\n",
    "# 生成关于英雄的数据表并展示前几条数据\n",
    "championList = np.array(data[['team1_win',player+'_championId',player+'_kills',player+'_deaths',player+'_assists',player+'_goldEarned',player+'_role',player+'_lane']].values)\n",
    "for i in range(1,5):\n",
    "    player = 'player' + str(i+1)\n",
    "    playerData = np.array(data[['team1_win',player+'_championId',player+'_kills',player+'_deaths',player+'_assists',player+'_goldEarned',player+'_role',player+'_lane']].values)\n",
    "    championList = np.concatenate((championList,playerData))\n",
    "for i in range(5,10):\n",
    "    player = 'player' + str(i+1)\n",
    "    playerData = np.array(data[['team1_win',player+'_championId',player+'_kills',player+'_deaths',player+'_assists',player+'_goldEarned',player+'_role',player+'_lane']].values)\n",
    "    # 对于2队的英雄数据，胜负要反过来\n",
    "    playerData[:,0] = 1-playerData[:,0]\n",
    "    championList = np.concatenate((championList,playerData))\n",
    "championData = pd.DataFrame(championList,columns=['win/lose','championId','kills','deaths','assists','goldEarned','role','lane'])\n",
    "print(championData)"
   ]
  },
  {
   "cell_type": "markdown",
   "source": [
    "#### 4.1英雄胜率分析\n"
   ],
   "metadata": {
    "collapsed": false,
    "pycharm": {
     "name": "#%% md\n"
    }
   }
  },
  {
   "cell_type": "code",
   "execution_count": 31,
   "outputs": [
    {
     "name": "stdout",
     "output_type": "stream",
     "text": [
      "        1         2         3        4         5         6         7    \\\n",
      "0  0.494649  0.492625  0.511351  0.51063  0.494849  0.504712  0.471047   \n",
      "\n",
      "        8         9         10   ...       429       432       497       498  \\\n",
      "0  0.493365  0.507142  0.481537  ...  0.500113  0.529797  0.491146  0.474113   \n",
      "\n",
      "        516       517       518      523       555       875  \n",
      "0  0.490075  0.482556  0.476749  0.48902  0.482339  0.494461  \n",
      "\n",
      "[1 rows x 148 columns]\n",
      "champion max win rate is 0.49262467806134397\n",
      "champion min win rate is 0.49262467806134397\n"
     ]
    }
   ],
   "source": [
    "# 生成英雄胜率表\n",
    "champion_win_rate = pd.crosstab(championData['championId'],championData['win/lose'],normalize='index')\n",
    "# print(champion_win_rate.loc[875].values[1])\n",
    "# 生成英雄胜率字典\n",
    "champion_win_rate_dic = {}\n",
    "for each in champion_win_rate.index:\n",
    "    champion_win_rate_dic[each] = champion_win_rate.loc[each].values[1]\n",
    "champion_win_rate = pd.DataFrame([champion_win_rate_dic])\n",
    "print(champion_win_rate)\n",
    "win_rate = np.array(champion_win_rate.values)\n",
    "win_rate_max = max(win_rate[:,1])\n",
    "print(f\"champion max win rate is {win_rate_max}\")\n",
    "win_rate_min = min(win_rate[:,1])\n",
    "print(f\"champion min win rate is {win_rate_min}\")"
   ],
   "metadata": {
    "collapsed": false,
    "pycharm": {
     "name": "#%%\n"
    }
   }
  },
  {
   "cell_type": "markdown",
   "source": [
    "生成英雄的胜率表，通过找到表中胜率最高值与最低值，胜率最高为54%，最低为45%。\n",
    "由此可见英雄对胜率的影响不算很大，在5%以内，该游戏还算比较平衡。"
   ],
   "metadata": {
    "collapsed": false,
    "pycharm": {
     "name": "#%% md\n"
    }
   }
  },
  {
   "cell_type": "markdown",
   "source": [
    "#### 4.2 lane与role的分析"
   ],
   "metadata": {
    "collapsed": false,
    "pycharm": {
     "name": "#%% md\n"
    }
   }
  },
  {
   "cell_type": "code",
   "execution_count": 32,
   "outputs": [
    {
     "data": {
      "text/plain": "lane         BOTTOM  JUNGLE  MIDDLE    NONE     TOP\nrole                                               \nDUO            2168       0   26932   23408   13300\nDUO_CARRY    117661       0    3753      18    1860\nDUO_SUPPORT  118704       0   10358  109144    3875\nNONE              0  142264       0       0       0\nSOLO           9810       0  107897       0  108848",
      "text/html": "<div>\n<style scoped>\n    .dataframe tbody tr th:only-of-type {\n        vertical-align: middle;\n    }\n\n    .dataframe tbody tr th {\n        vertical-align: top;\n    }\n\n    .dataframe thead th {\n        text-align: right;\n    }\n</style>\n<table border=\"1\" class=\"dataframe\">\n  <thead>\n    <tr style=\"text-align: right;\">\n      <th>lane</th>\n      <th>BOTTOM</th>\n      <th>JUNGLE</th>\n      <th>MIDDLE</th>\n      <th>NONE</th>\n      <th>TOP</th>\n    </tr>\n    <tr>\n      <th>role</th>\n      <th></th>\n      <th></th>\n      <th></th>\n      <th></th>\n      <th></th>\n    </tr>\n  </thead>\n  <tbody>\n    <tr>\n      <th>DUO</th>\n      <td>2168</td>\n      <td>0</td>\n      <td>26932</td>\n      <td>23408</td>\n      <td>13300</td>\n    </tr>\n    <tr>\n      <th>DUO_CARRY</th>\n      <td>117661</td>\n      <td>0</td>\n      <td>3753</td>\n      <td>18</td>\n      <td>1860</td>\n    </tr>\n    <tr>\n      <th>DUO_SUPPORT</th>\n      <td>118704</td>\n      <td>0</td>\n      <td>10358</td>\n      <td>109144</td>\n      <td>3875</td>\n    </tr>\n    <tr>\n      <th>NONE</th>\n      <td>0</td>\n      <td>142264</td>\n      <td>0</td>\n      <td>0</td>\n      <td>0</td>\n    </tr>\n    <tr>\n      <th>SOLO</th>\n      <td>9810</td>\n      <td>0</td>\n      <td>107897</td>\n      <td>0</td>\n      <td>108848</td>\n    </tr>\n  </tbody>\n</table>\n</div>"
     },
     "execution_count": 32,
     "metadata": {},
     "output_type": "execute_result"
    }
   ],
   "source": [
    "pd.crosstab(championData['role'],championData['lane'])"
   ],
   "metadata": {
    "collapsed": false,
    "pycharm": {
     "name": "#%%\n"
    }
   }
  },
  {
   "cell_type": "markdown",
   "source": [
    "画出所有的lane与role的关系表，可以看出,role中所有的None的都来自打野选手，而lane中的none有各个角色。\n",
    "故作出判断role中none是指打野选手并没有具体的角色而lane中的none是因为数据缺失造成的，要进行数据填补，而填补方式是用该英雄大的最多的lane来替换none。\n",
    "下面进行数据填补，同时得到每个英雄对应最常见lane的字典。"
   ],
   "metadata": {
    "collapsed": false,
    "pycharm": {
     "name": "#%% md\n"
    }
   }
  },
  {
   "cell_type": "code",
   "execution_count": 33,
   "outputs": [
    {
     "name": "stdout",
     "output_type": "stream",
     "text": [
      "{107: 'JUNGLE', 76: 'JUNGLE', 51: 'BOTTOM', 28: 'JUNGLE', 79: 'JUNGLE', 555: 'BOTTOM', 145: 'BOTTOM', 127: 'MIDDLE', 98: 'TOP', 119: 'BOTTOM', 8: 'MIDDLE', 245: 'JUNGLE', 4: 'MIDDLE', 16: 'BOTTOM', 523: 'BOTTOM', 15: 'BOTTOM', 238: 'MIDDLE', 54: 'TOP', 267: 'BOTTOM', 58: 'TOP', 80: 'MIDDLE', 9: 'JUNGLE', 44: 'BOTTOM', 421: 'JUNGLE', 41: 'TOP', 32: 'JUNGLE', 74: 'MIDDLE', 81: 'BOTTOM', 91: 'MIDDLE', 31: 'TOP', 875: 'TOP', 111: 'BOTTOM', 266: 'TOP', 254: 'JUNGLE', 86: 'TOP', 89: 'BOTTOM', 412: 'BOTTOM', 142: 'MIDDLE', 39: 'TOP', 30: 'JUNGLE', 90: 'MIDDLE', 235: 'BOTTOM', 24: 'TOP', 59: 'JUNGLE', 2: 'JUNGLE', 55: 'MIDDLE', 157: 'MIDDLE', 34: 'MIDDLE', 18: 'BOTTOM', 517: 'MIDDLE', 120: 'JUNGLE', 122: 'TOP', 26: 'BOTTOM', 99: 'BOTTOM', 105: 'MIDDLE', 22: 'BOTTOM', 56: 'JUNGLE', 7: 'MIDDLE', 11: 'JUNGLE', 42: 'MIDDLE', 114: 'TOP', 43: 'BOTTOM', 37: 'BOTTOM', 19: 'JUNGLE', 75: 'TOP', 21: 'BOTTOM', 117: 'BOTTOM', 202: 'BOTTOM', 35: 'JUNGLE', 62: 'JUNGLE', 222: 'BOTTOM', 23: 'TOP', 236: 'BOTTOM', 57: 'TOP', 69: 'MIDDLE', 246: 'MIDDLE', 40: 'BOTTOM', 82: 'TOP', 143: 'BOTTOM', 6: 'TOP', 141: 'JUNGLE', 77: 'JUNGLE', 50: 'BOTTOM', 110: 'BOTTOM', 92: 'TOP', 104: 'JUNGLE', 5: 'JUNGLE', 420: 'TOP', 432: 'BOTTOM', 60: 'JUNGLE', 498: 'BOTTOM', 84: 'MIDDLE', 83: 'TOP', 134: 'MIDDLE', 25: 'BOTTOM', 38: 'MIDDLE', 516: 'TOP', 64: 'JUNGLE', 103: 'MIDDLE', 161: 'MIDDLE', 131: 'MIDDLE', 350: 'BOTTOM', 121: 'JUNGLE', 67: 'BOTTOM', 36: 'TOP', 101: 'BOTTOM', 29: 'BOTTOM', 429: 'BOTTOM', 68: 'MIDDLE', 518: 'MIDDLE', 497: 'BOTTOM', 45: 'MIDDLE', 102: 'JUNGLE', 106: 'TOP', 240: 'TOP', 14: 'TOP', 12: 'BOTTOM', 72: 'JUNGLE', 85: 'TOP', 61: 'MIDDLE', 115: 'MIDDLE', 3: 'MIDDLE', 13: 'MIDDLE', 164: 'TOP', 150: 'TOP', 53: 'BOTTOM', 163: 'JUNGLE', 10: 'TOP', 154: 'JUNGLE', 78: 'TOP', 203: 'JUNGLE', 113: 'JUNGLE', 201: 'BOTTOM', 48: 'JUNGLE', 63: 'BOTTOM', 126: 'TOP', 136: 'MIDDLE', 133: 'TOP', 112: 'MIDDLE', 20: 'JUNGLE', 17: 'TOP', 27: 'TOP', 268: 'MIDDLE', 427: 'JUNGLE', 33: 'JUNGLE', 96: 'BOTTOM', 1: 'MIDDLE', 223: 'BOTTOM'}\n"
     ]
    }
   ],
   "source": [
    "# 填补缺失数据\n",
    "champion_lane_dict = {}\n",
    "for each in championData['championId'].unique():\n",
    "    ds = championData[championData['championId'] == each]['lane'].value_counts().reset_index()\n",
    "    ds.columns = ['lane', 'count']\n",
    "    lane = ds.sort_values(['count']).tail(1)['lane'][0]\n",
    "    championData.loc[(championData['championId'] == each) & (championData['lane'] == 'NONE'),'lane'] = lane\n",
    "    champion_lane_dict[each] = lane\n",
    "print(champion_lane_dict)"
   ],
   "metadata": {
    "collapsed": false,
    "pycharm": {
     "name": "#%%\n"
    }
   }
  },
  {
   "cell_type": "markdown",
   "source": [
    "得到英雄常见lane字典后，对原data表进行补全。"
   ],
   "metadata": {
    "collapsed": false,
    "pycharm": {
     "name": "#%% md\n"
    }
   }
  },
  {
   "cell_type": "code",
   "execution_count": 34,
   "outputs": [
    {
     "data": {
      "text/plain": "       team1_win  team1_firstBlood  team1_firstTower  team1_firstInhibitor  \\\nindex                                                                        \n0              0                 1                 0                     0   \n1              1                 0                 1                     1   \n2              0                 0                 1                     0   \n3              0                 1                 0                     0   \n4              1                 1                 1                     1   \n\n       team1_firstBaron  team1_firstDragon  team1_firstRiftHerald  \\\nindex                                                               \n0                     0                  0                      0   \n1                     0                  1                      1   \n2                     0                  1                      1   \n3                     0                  1                      0   \n4                     0                  0                      1   \n\n       player1_championId  player1_kills  player1_deaths  ...  \\\nindex                                                     ...   \n0                     107              2               4  ...   \n1                      76             10               5  ...   \n2                      51              7               6  ...   \n3                      28              5               3  ...   \n4                      79              4               2  ...   \n\n       player10_assists  player10_goldEarned player10_role player10_lane  \\\nindex                                                                      \n0                     8                 8168           DUO        MIDDLE   \n1                     4                 6943   DUO_SUPPORT        BOTTOM   \n2                     1                 9685          SOLO           TOP   \n3                    10                13109          SOLO           TOP   \n4                     8                 6809   DUO_SUPPORT        BOTTOM   \n\n       team1_eco  team2_eco  eco_gap  team1_kills  team2_kills kills_gap  \nindex                                                                     \n0          26720      36199    -9479            9           21       -12  \n1          52413      41541    10872           32           18        14  \n2          51296      55630    -4334           14           22        -8  \n3          47192      51874    -4682           18           23        -5  \n4          48454      39192     9262           32           19        13  \n\n[5 rows x 83 columns]",
      "text/html": "<div>\n<style scoped>\n    .dataframe tbody tr th:only-of-type {\n        vertical-align: middle;\n    }\n\n    .dataframe tbody tr th {\n        vertical-align: top;\n    }\n\n    .dataframe thead th {\n        text-align: right;\n    }\n</style>\n<table border=\"1\" class=\"dataframe\">\n  <thead>\n    <tr style=\"text-align: right;\">\n      <th></th>\n      <th>team1_win</th>\n      <th>team1_firstBlood</th>\n      <th>team1_firstTower</th>\n      <th>team1_firstInhibitor</th>\n      <th>team1_firstBaron</th>\n      <th>team1_firstDragon</th>\n      <th>team1_firstRiftHerald</th>\n      <th>player1_championId</th>\n      <th>player1_kills</th>\n      <th>player1_deaths</th>\n      <th>...</th>\n      <th>player10_assists</th>\n      <th>player10_goldEarned</th>\n      <th>player10_role</th>\n      <th>player10_lane</th>\n      <th>team1_eco</th>\n      <th>team2_eco</th>\n      <th>eco_gap</th>\n      <th>team1_kills</th>\n      <th>team2_kills</th>\n      <th>kills_gap</th>\n    </tr>\n    <tr>\n      <th>index</th>\n      <th></th>\n      <th></th>\n      <th></th>\n      <th></th>\n      <th></th>\n      <th></th>\n      <th></th>\n      <th></th>\n      <th></th>\n      <th></th>\n      <th></th>\n      <th></th>\n      <th></th>\n      <th></th>\n      <th></th>\n      <th></th>\n      <th></th>\n      <th></th>\n      <th></th>\n      <th></th>\n      <th></th>\n    </tr>\n  </thead>\n  <tbody>\n    <tr>\n      <th>0</th>\n      <td>0</td>\n      <td>1</td>\n      <td>0</td>\n      <td>0</td>\n      <td>0</td>\n      <td>0</td>\n      <td>0</td>\n      <td>107</td>\n      <td>2</td>\n      <td>4</td>\n      <td>...</td>\n      <td>8</td>\n      <td>8168</td>\n      <td>DUO</td>\n      <td>MIDDLE</td>\n      <td>26720</td>\n      <td>36199</td>\n      <td>-9479</td>\n      <td>9</td>\n      <td>21</td>\n      <td>-12</td>\n    </tr>\n    <tr>\n      <th>1</th>\n      <td>1</td>\n      <td>0</td>\n      <td>1</td>\n      <td>1</td>\n      <td>0</td>\n      <td>1</td>\n      <td>1</td>\n      <td>76</td>\n      <td>10</td>\n      <td>5</td>\n      <td>...</td>\n      <td>4</td>\n      <td>6943</td>\n      <td>DUO_SUPPORT</td>\n      <td>BOTTOM</td>\n      <td>52413</td>\n      <td>41541</td>\n      <td>10872</td>\n      <td>32</td>\n      <td>18</td>\n      <td>14</td>\n    </tr>\n    <tr>\n      <th>2</th>\n      <td>0</td>\n      <td>0</td>\n      <td>1</td>\n      <td>0</td>\n      <td>0</td>\n      <td>1</td>\n      <td>1</td>\n      <td>51</td>\n      <td>7</td>\n      <td>6</td>\n      <td>...</td>\n      <td>1</td>\n      <td>9685</td>\n      <td>SOLO</td>\n      <td>TOP</td>\n      <td>51296</td>\n      <td>55630</td>\n      <td>-4334</td>\n      <td>14</td>\n      <td>22</td>\n      <td>-8</td>\n    </tr>\n    <tr>\n      <th>3</th>\n      <td>0</td>\n      <td>1</td>\n      <td>0</td>\n      <td>0</td>\n      <td>0</td>\n      <td>1</td>\n      <td>0</td>\n      <td>28</td>\n      <td>5</td>\n      <td>3</td>\n      <td>...</td>\n      <td>10</td>\n      <td>13109</td>\n      <td>SOLO</td>\n      <td>TOP</td>\n      <td>47192</td>\n      <td>51874</td>\n      <td>-4682</td>\n      <td>18</td>\n      <td>23</td>\n      <td>-5</td>\n    </tr>\n    <tr>\n      <th>4</th>\n      <td>1</td>\n      <td>1</td>\n      <td>1</td>\n      <td>1</td>\n      <td>0</td>\n      <td>0</td>\n      <td>1</td>\n      <td>79</td>\n      <td>4</td>\n      <td>2</td>\n      <td>...</td>\n      <td>8</td>\n      <td>6809</td>\n      <td>DUO_SUPPORT</td>\n      <td>BOTTOM</td>\n      <td>48454</td>\n      <td>39192</td>\n      <td>9262</td>\n      <td>32</td>\n      <td>19</td>\n      <td>13</td>\n    </tr>\n  </tbody>\n</table>\n<p>5 rows × 83 columns</p>\n</div>"
     },
     "execution_count": 34,
     "metadata": {},
     "output_type": "execute_result"
    }
   ],
   "source": [
    "for i in range(10):\n",
    "    playerChampion = 'player'+str(i+1)+'_championId'\n",
    "    playerLane = 'player'+str(i+1)+'_lane'\n",
    "    for each in data[playerChampion].unique():\n",
    "        data.loc[(data[playerChampion] == each) & (data[playerLane] == 'NONE'),playerLane] = champion_lane_dict[each]\n",
    "data.head()"
   ],
   "metadata": {
    "collapsed": false,
    "pycharm": {
     "name": "#%%\n"
    }
   }
  },
  {
   "cell_type": "markdown",
   "source": [
    "#### 4.3 类型转换\n",
    "\n",
    "将英雄，lane，role的类型转换为onehot编码。"
   ],
   "metadata": {
    "collapsed": false,
    "pycharm": {
     "name": "#%% md\n"
    }
   }
  },
  {
   "cell_type": "code",
   "execution_count": 35,
   "outputs": [],
   "source": [
    "# 英雄转换\n",
    "# team1\n",
    "champion_onehot_list_all = []\n",
    "for i in range(5):\n",
    "    playerChampion = 'player'+str(i+1)+'_championId'\n",
    "    champion_onehot_list_all.append(pd.get_dummies(data=data[playerChampion],prefix='team1_champion'))\n",
    "team1_cham_onehot = champion_onehot_list_all[0]\n",
    "for i in range(1,5):\n",
    "    team1_cham_onehot = team1_cham_onehot.add(champion_onehot_list_all[i],fill_value=0)\n",
    "data = pd.concat([data,team1_cham_onehot],axis=1)\n",
    "# team2\n",
    "champion_onehot_list_all = []\n",
    "for i in range(5,10):\n",
    "    playerChampion = 'player'+str(i+1)+'_championId'\n",
    "    champion_onehot_list_all.append(pd.get_dummies(data=data[playerChampion],prefix='team2_champion'))\n",
    "team_cham_onehot = champion_onehot_list_all[0]\n",
    "for i in range(1,5):\n",
    "    team_cham_onehot = team_cham_onehot.add(champion_onehot_list_all[i],fill_value=0)\n",
    "data = pd.concat([data,team_cham_onehot],axis=1)\n",
    "\n",
    "# role转换\n",
    "# team1\n",
    "role_onehot_list_all = []\n",
    "for i in range(5):\n",
    "    playerRole = 'player'+str(i+1)+'_role'\n",
    "    role_onehot_list_all.append(pd.get_dummies(data=data[playerRole],prefix='team1_role'))\n",
    "team_role_onehot = role_onehot_list_all[0]\n",
    "for i in range(1,5):\n",
    "    team_role_onehot = team_role_onehot.add(role_onehot_list_all[i],fill_value=0)\n",
    "data = pd.concat([data,team_role_onehot],axis=1)\n",
    "# team2\n",
    "role_onehot_list_all = []\n",
    "for i in range(5,10):\n",
    "    playerRole = 'player'+str(i+1)+'_role'\n",
    "    role_onehot_list_all.append(pd.get_dummies(data=data[playerRole],prefix='team2_role'))\n",
    "team_role_onehot = role_onehot_list_all[0]\n",
    "for i in range(1,5):\n",
    "    team_role_onehot = team_role_onehot.add(role_onehot_list_all[i],fill_value=0)\n",
    "data = pd.concat([data,team_role_onehot],axis=1)\n",
    "\n",
    "# lane转换\n",
    "# team1\n",
    "lane_onehot_list_all = []\n",
    "for i in range(5):\n",
    "    playerLane = 'player'+str(i+1)+'_lane'\n",
    "    lane_onehot_list_all.append(pd.get_dummies(data=data[playerLane],prefix='team1_lane'))\n",
    "team_lane_onehot = lane_onehot_list_all[0]\n",
    "for i in range(1,5):\n",
    "    team_lane_onehot = team_lane_onehot.add(lane_onehot_list_all[i],fill_value=0)\n",
    "data = pd.concat([data,team_lane_onehot],axis=1)\n",
    "# team2\n",
    "lane_onehot_list_all = []\n",
    "for i in range(5,10):\n",
    "    playerLane = 'player'+str(i+1)+'_lane'\n",
    "    lane_onehot_list_all.append(pd.get_dummies(data=data[playerLane],prefix='team2_lane'))\n",
    "team_lane_onehot = lane_onehot_list_all[0]\n",
    "for i in range(1,5):\n",
    "    team_lane_onehot = team_lane_onehot.add(lane_onehot_list_all[i],fill_value=0)\n",
    "data = pd.concat([data,team_lane_onehot],axis=1)\n"
   ],
   "metadata": {
    "collapsed": false,
    "pycharm": {
     "name": "#%%\n"
    }
   }
  },
  {
   "cell_type": "code",
   "execution_count": 36,
   "outputs": [
    {
     "name": "stdout",
     "output_type": "stream",
     "text": [
      "(80000, 397)\n"
     ]
    }
   ],
   "source": [
    "print(data.shape)"
   ],
   "metadata": {
    "collapsed": false,
    "pycharm": {
     "name": "#%%\n"
    }
   }
  },
  {
   "cell_type": "markdown",
   "source": [
    "#### 4.4 得到英雄数据表\n",
    "对各个英雄数据进行分析，算出登场率，场均人头，场均助攻等场均数据得到一张表，可以用该表衡量英雄各个方面的能力。"
   ],
   "metadata": {
    "collapsed": false,
    "pycharm": {
     "name": "#%% md\n"
    }
   }
  },
  {
   "cell_type": "code",
   "execution_count": 37,
   "id": "fifth-anderson",
   "metadata": {
    "pycharm": {
     "name": "#%%\n"
    }
   },
   "outputs": [
    {
     "name": "stdout",
     "output_type": "stream",
     "text": [
      "     81     412    64     875    145    104    157    517    245    236  ...  \\\n",
      "0  26697  16978  16823  14171  13922  13650  12847  12784  12456  12435  ...   \n",
      "\n",
      "    32    1     133   77    223   427   85    96   136  72   \n",
      "0  1708  1682  1538  1360  1331  1247  1236  1214  897  645  \n",
      "\n",
      "[1 rows x 148 columns]\n"
     ]
    }
   ],
   "source": [
    "# 各英雄出场次数\n",
    "championFrequency_dic = championData['championId'].value_counts().to_dict()\n",
    "championFrequency = pd.DataFrame([championFrequency_dic])\n",
    "\n",
    "print(championFrequency)"
   ]
  },
  {
   "cell_type": "code",
   "execution_count": 38,
   "id": "chinese-working",
   "metadata": {
    "pycharm": {
     "name": "#%%\n"
    }
   },
   "outputs": [
    {
     "name": "stdout",
     "output_type": "stream",
     "text": [
      "       1         2         3         4         5         6         7    \\\n",
      "0  5.78478  5.741044  3.935959  4.507515  5.417954  5.703732  6.588901   \n",
      "\n",
      "        8         9         10   ...       429       432      497       498  \\\n",
      "0  5.268027  4.736158  4.618523  ...  6.731575  2.403537  1.61849  5.702301   \n",
      "\n",
      "        516       517       518       523      555       875  \n",
      "0  3.170504  6.274406  4.265186  5.611087  6.18469  4.297297  \n",
      "\n",
      "[1 rows x 148 columns]\n",
      "        1         2         3         4         5         6        7    \\\n",
      "0  6.978597  5.959728  9.182315  7.805535  6.822296  4.850358  6.09781   \n",
      "\n",
      "        8         9         10   ...       429       432        497       498  \\\n",
      "0  5.218703  8.776922  5.652174  ...  5.996619  11.63855  12.442708  6.657958   \n",
      "\n",
      "        516       517      518       523       555       875  \n",
      "0  7.645891  6.230288  7.49225  6.221313  7.194454  6.866417  \n",
      "\n",
      "[1 rows x 148 columns]\n",
      "        1         2         3         4         5         6         7    \\\n",
      "0  5.174197  5.031843  4.659613  4.592559  5.527226  4.858651  4.466592   \n",
      "\n",
      "        8         9        10   ...       429      432       497       498  \\\n",
      "0  4.684402  5.149414  4.98243  ...  5.630832  4.61061  4.735938  5.011266   \n",
      "\n",
      "        516       517       518       523       555      875  \n",
      "0  4.435093  5.565472  5.210306  5.320344  5.640145  5.23915  \n",
      "\n",
      "[1 rows x 148 columns]\n",
      "            1             2            3             4            5    \\\n",
      "0  10097.807372  10509.363381  9370.036155  11077.990103  9987.662987   \n",
      "\n",
      "            6             7             8            9             10   ...  \\\n",
      "0  11002.033924  10250.644581  10788.118553  9610.300433  10897.731388  ...   \n",
      "\n",
      "            429          432          497           498          516  \\\n",
      "0  11435.623845  7473.926437  7144.751302  11307.267018  9599.517864   \n",
      "\n",
      "            517          518           523           555          875  \n",
      "0  10251.865535  9604.258065  11074.281485  10184.585654  9577.649495  \n",
      "\n",
      "[1 rows x 148 columns]\n"
     ]
    }
   ],
   "source": [
    "# 找到每个英雄的场均数据\n",
    "\n",
    "# 场均击杀\n",
    "championKills_dic = championData.groupby('championId')['kills'].sum().to_dict()\n",
    "for key in championKills_dic.keys():\n",
    "    championKills_dic[key] /= championFrequency_dic[key]\n",
    "championKills = pd.DataFrame([championKills_dic])\n",
    "print(championKills)\n",
    "\n",
    "# 场均助攻\n",
    "championAssists_dic = championData.groupby('championId')['assists'].sum().to_dict()\n",
    "for key in championAssists_dic.keys():\n",
    "    championAssists_dic[key] /= championFrequency_dic[key]\n",
    "championAssists = pd.DataFrame([championAssists_dic])\n",
    "print(championAssists)\n",
    "\n",
    "# 场均死亡\n",
    "championDeaths_dic = championData.groupby('championId')['deaths'].sum().to_dict()\n",
    "for key in championDeaths_dic.keys():\n",
    "    championDeaths_dic[key] /= championFrequency_dic[key]\n",
    "championDeaths = pd.DataFrame([championDeaths_dic])\n",
    "print(championDeaths)\n",
    "\n",
    "# 场均经济\n",
    "championGold_dic = championData.groupby('championId')['goldEarned'].sum().to_dict()\n",
    "for key in championGold_dic.keys():\n",
    "    championGold_dic[key] /= championFrequency_dic[key]\n",
    "championGold = pd.DataFrame([championGold_dic])\n",
    "print(championGold)"
   ]
  },
  {
   "cell_type": "code",
   "execution_count": 39,
   "outputs": [
    {
     "name": "stdout",
     "output_type": "stream",
     "text": [
      "                    1             2            3             4            5    \\\n",
      "Frequency   1682.000000   4271.000000  7136.000000   5456.000000  2718.000000   \n",
      "win_rate       0.494649      0.492625     0.511351      0.510630     0.494849   \n",
      "Kills          5.784780      5.741044     3.935959      4.507515     5.417954   \n",
      "Assists        6.978597      5.959728     9.182315      7.805535     6.822296   \n",
      "Deaths         5.174197      5.031843     4.659613      4.592559     5.527226   \n",
      "Gold       10097.807372  10509.363381  9370.036155  11077.990103  9987.662987   \n",
      "\n",
      "                    6             7             8            9    \\\n",
      "Frequency   2653.000000   5388.000000   7988.000000  6231.000000   \n",
      "win_rate       0.504712      0.471047      0.493365     0.507142   \n",
      "Kills          5.703732      6.588901      5.268027     4.736158   \n",
      "Assists        4.850358      6.097810      5.218703     8.776922   \n",
      "Deaths         4.858651      4.466592      4.684402     5.149414   \n",
      "Gold       11002.033924  10250.644581  10788.118553  9610.300433   \n",
      "\n",
      "                    10   ...           429          432          497  \\\n",
      "Frequency   3358.000000  ...   4437.000000  5655.000000  3840.000000   \n",
      "win_rate       0.481537  ...      0.500113     0.529797     0.491146   \n",
      "Kills          4.618523  ...      6.731575     2.403537     1.618490   \n",
      "Assists        5.652174  ...      5.996619    11.638550    12.442708   \n",
      "Deaths         4.982430  ...      5.630832     4.610610     4.735938   \n",
      "Gold       10897.731388  ...  11435.623845  7473.926437  7144.751302   \n",
      "\n",
      "                    498          516           517          518           523  \\\n",
      "Frequency   4172.000000  5038.000000  12784.000000  2387.000000   9290.000000   \n",
      "win_rate       0.474113     0.490075      0.482556     0.476749      0.489020   \n",
      "Kills          5.702301     3.170504      6.274406     4.265186      5.611087   \n",
      "Assists        6.657958     7.645891      6.230288     7.492250      6.221313   \n",
      "Deaths         5.011266     4.435093      5.565472     5.210306      5.320344   \n",
      "Gold       11307.267018  9599.517864  10251.865535  9604.258065  11074.281485   \n",
      "\n",
      "                    555           875  \n",
      "Frequency   8295.000000  14171.000000  \n",
      "win_rate       0.482339      0.494461  \n",
      "Kills          6.184690      4.297297  \n",
      "Assists        7.194454      6.866417  \n",
      "Deaths         5.640145      5.239150  \n",
      "Gold       10184.585654   9577.649495  \n",
      "\n",
      "[6 rows x 148 columns]\n"
     ]
    }
   ],
   "source": [
    "# 得到英雄场均数据表\n",
    "championData2 = pd.concat([championFrequency,champion_win_rate,championKills,championAssists,championDeaths,championGold],ignore_index=True)\n",
    "championData2.index=(['Frequency','win_rate','Kills','Assists','Deaths','Gold'])\n",
    "print(championData2)"
   ],
   "metadata": {
    "collapsed": false,
    "pycharm": {
     "name": "#%%\n"
    }
   }
  },
  {
   "cell_type": "markdown",
   "source": [
    "## 数据存储：\n",
    "\n",
    "将更改后的特征表存到exp3Data.csv中，得到的英雄数据表存到exp3ChampionData.csv中(见附带文件中的exp3ChampionData.csv文件)。\n"
   ],
   "metadata": {
    "collapsed": false,
    "pycharm": {
     "name": "#%% md\n"
    }
   }
  },
  {
   "cell_type": "code",
   "execution_count": 40,
   "outputs": [
    {
     "name": "stdout",
     "output_type": "stream",
     "text": [
      "       team1_win  team1_firstBlood  team1_firstTower  team1_firstInhibitor  \\\n",
      "index                                                                        \n",
      "0              0                 1                 0                     0   \n",
      "1              1                 0                 1                     1   \n",
      "2              0                 0                 1                     0   \n",
      "3              0                 1                 0                     0   \n",
      "4              1                 1                 1                     1   \n",
      "...          ...               ...               ...                   ...   \n",
      "79995          0                 0                 0                     0   \n",
      "79996          1                 1                 1                     1   \n",
      "79997          0                 1                 0                     0   \n",
      "79998          0                 0                 0                     0   \n",
      "79999          0                 0                 0                     1   \n",
      "\n",
      "       team1_firstBaron  team1_firstDragon  team1_firstRiftHerald  \\\n",
      "index                                                               \n",
      "0                     0                  0                      0   \n",
      "1                     0                  1                      1   \n",
      "2                     0                  1                      1   \n",
      "3                     0                  1                      0   \n",
      "4                     0                  0                      1   \n",
      "...                 ...                ...                    ...   \n",
      "79995                 0                  0                      0   \n",
      "79996                 1                  0                      1   \n",
      "79997                 0                  0                      0   \n",
      "79998                 0                  1                      0   \n",
      "79999                 1                  1                      1   \n",
      "\n",
      "       player1_championId  player1_kills  player1_deaths  ...  \\\n",
      "index                                                     ...   \n",
      "0                     107              2               4  ...   \n",
      "1                      76             10               5  ...   \n",
      "2                      51              7               6  ...   \n",
      "3                      28              5               3  ...   \n",
      "4                      79              4               2  ...   \n",
      "...                   ...            ...             ...  ...   \n",
      "79995                  21              3               3  ...   \n",
      "79996                 875              3               3  ...   \n",
      "79997                 164              3               9  ...   \n",
      "79998                  26              2               2  ...   \n",
      "79999                  98              2              11  ...   \n",
      "\n",
      "       team2_role_NONE  team2_role_SOLO team1_lane_BOTTOM team1_lane_JUNGLE  \\\n",
      "index                                                                         \n",
      "0                    0                0                 2                 1   \n",
      "1                    1                2                 2                 1   \n",
      "2                    1                2                 2                 1   \n",
      "3                    1                2                 2                 1   \n",
      "4                    1                0                 2                 1   \n",
      "...                ...              ...               ...               ...   \n",
      "79995                1                0                 2                 1   \n",
      "79996                0                1                 2                 1   \n",
      "79997                1                0                 2                 1   \n",
      "79998                1                2                 2                 1   \n",
      "79999                1                2                 2                 1   \n",
      "\n",
      "       team1_lane_MIDDLE  team1_lane_TOP  team2_lane_BOTTOM  \\\n",
      "index                                                         \n",
      "0                      2               0                  1   \n",
      "1                      1               1                  2   \n",
      "2                      1               1                  2   \n",
      "3                      1               1                  2   \n",
      "4                      1               1                  2   \n",
      "...                  ...             ...                ...   \n",
      "79995                  1               1                  2   \n",
      "79996                  1               1                  2   \n",
      "79997                  1               1                  2   \n",
      "79998                  1               1                  2   \n",
      "79999                  1               1                  2   \n",
      "\n",
      "       team2_lane_JUNGLE  team2_lane_MIDDLE team2_lane_TOP  \n",
      "index                                                       \n",
      "0                      1                  2              1  \n",
      "1                      1                  1              1  \n",
      "2                      1                  1              1  \n",
      "3                      1                  1              1  \n",
      "4                      1                  2              0  \n",
      "...                  ...                ...            ...  \n",
      "79995                  1                  2              0  \n",
      "79996                  0                  1              2  \n",
      "79997                  1                  2              0  \n",
      "79998                  1                  1              1  \n",
      "79999                  1                  1              1  \n",
      "\n",
      "[80000 rows x 397 columns]\n"
     ]
    }
   ],
   "source": [
    "print(data)"
   ],
   "metadata": {
    "collapsed": false,
    "pycharm": {
     "name": "#%%\n"
    }
   }
  },
  {
   "cell_type": "code",
   "execution_count": 41,
   "outputs": [],
   "source": [
    "data.to_csv('exp3Data.csv')\n",
    "championData2.to_csv('exp3ChampionData.csv')"
   ],
   "metadata": {
    "collapsed": false,
    "pycharm": {
     "name": "#%%\n"
    }
   }
  }
 ],
 "metadata": {
  "kernelspec": {
   "display_name": "Python 3",
   "language": "python",
   "name": "python3"
  },
  "language_info": {
   "codemirror_mode": {
    "name": "ipython",
    "version": 3
   },
   "file_extension": ".py",
   "mimetype": "text/x-python",
   "name": "python",
   "nbconvert_exporter": "python",
   "pygments_lexer": "ipython3",
   "version": "3.8.5"
  }
 },
 "nbformat": 4,
 "nbformat_minor": 5
}